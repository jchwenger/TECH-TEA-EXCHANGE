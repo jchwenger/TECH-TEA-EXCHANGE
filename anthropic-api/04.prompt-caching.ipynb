{
 "cells": [
  {
   "cell_type": "markdown",
   "id": "d6fc22d1-7748-4e5d-af2f-9e479eeca375",
   "metadata": {},
   "source": [
    "# 03: Prompt Caching"
   ]
  },
  {
   "cell_type": "code",
   "execution_count": null,
   "id": "5dd447e0-7481-44c0-988f-b11453c89e10",
   "metadata": {},
   "outputs": [],
   "source": [
    "from anthropic import Anthropic"
   ]
  },
  {
   "cell_type": "code",
   "execution_count": 9,
   "id": "d785fafa-d48f-4c39-9c6e-b030f6dcbaec",
   "metadata": {},
   "outputs": [
    {
     "name": "stdout",
     "output_type": "stream",
     "text": [
      "environment variable ANTHROPIC_API_KEY not found, checking in api.txt\n",
      "key found in api.txt\n"
     ]
    }
   ],
   "source": [
    "import os\n",
    "if not os.environ[\"ANTHROPIC_API_KEY\"]:\n",
    "    print(\"environment variable ANTHROPIC_API_KEY not found, checking in api.txt\")\n",
    "    with open(\"api.txt\") as i:\n",
    "        api = i.read().strip()\n",
    "        if not api:\n",
    "            print(\"nothing found in api.txt, create a key in console.anthropic.com and paste it there\")\n",
    "        else:\n",
    "            os.environ[\"ANTHROPIC_API_KEY\"] = api\n",
    "            print(\"key found in api.txt\")  \n",
    "else:\n",
    "    print(\"environment variable ANTHROPIC_API_KEY found\")    "
   ]
  },
  {
   "cell_type": "code",
   "execution_count": null,
   "id": "2017f014-858d-4049-8d82-8caab0483159",
   "metadata": {},
   "outputs": [],
   "source": [
    "client = Anthropic()\n",
    "MODEL_NAME=\"claude-3-5-sonnet-20241022\""
   ]
  },
  {
   "cell_type": "markdown",
   "id": "5d6e9c16-181b-4919-a130-4dc3edaaa785",
   "metadata": {},
   "source": [
    "### Loading The Book"
   ]
  },
  {
   "cell_type": "code",
   "execution_count": null,
   "id": "30510915-fa70-4440-996d-cd8db6acb313",
   "metadata": {},
   "outputs": [],
   "source": [
    "with open('files/frankenstein.txt', 'r') as file:\n",
    "    book_content = file.read()"
   ]
  },
  {
   "cell_type": "code",
   "execution_count": null,
   "id": "6f30f0d7-81f7-4113-b340-ae95b53aa774",
   "metadata": {},
   "outputs": [],
   "source": [
    "len(book_content)"
   ]
  },
  {
   "cell_type": "code",
   "execution_count": null,
   "id": "76dfc6ab-673c-4a5f-9b91-f3f931aa454e",
   "metadata": {},
   "outputs": [],
   "source": [
    "book_content[1000:2000]"
   ]
  },
  {
   "cell_type": "markdown",
   "id": "1366b1ec-23ad-4d04-9c9d-7246a296e854",
   "metadata": {},
   "source": [
    "## Uncached Request"
   ]
  },
  {
   "cell_type": "code",
   "execution_count": null,
   "id": "d44035f9-2faa-44d5-90c4-3faf41917fdc",
   "metadata": {},
   "outputs": [],
   "source": [
    "import time\n",
    "def make_non_cached_api_call():\n",
    "    messages = [\n",
    "        {\n",
    "            \"role\": \"user\",\n",
    "            \"content\": [\n",
    "                {\n",
    "                    \"type\": \"text\",\n",
    "                    \"text\": \"<book>\" + book_content + \"</book>\"\n",
    "                },\n",
    "                {\n",
    "                    \"type\": \"text\",\n",
    "                    \"text\": \"What happens in chapter 3?\"\n",
    "                }\n",
    "            ]\n",
    "        }\n",
    "    ]\n",
    "\n",
    "    start_time = time.time()\n",
    "    response = client.messages.create(\n",
    "        model=MODEL_NAME,\n",
    "        max_tokens=500,\n",
    "        messages=messages,\n",
    "    )\n",
    "    end_time = time.time()\n",
    "\n",
    "    return response, end_time - start_time"
   ]
  },
  {
   "cell_type": "code",
   "execution_count": null,
   "id": "283894bf-1806-4f75-b49b-73afbbfdcd4b",
   "metadata": {},
   "outputs": [],
   "source": [
    "non_cached_response, non_cached_time = make_non_cached_api_call()\n",
    "print(f\"Non-cached time: {non_cached_time:.2f} seconds\")\n",
    "\n",
    "print(\"\\nOutput (non-cached):\")\n",
    "print(non_cached_response.content)"
   ]
  },
  {
   "cell_type": "code",
   "execution_count": null,
   "id": "2ede4c3d-317b-4267-b912-f1dbc68e85e0",
   "metadata": {},
   "outputs": [],
   "source": [
    "non_cached_response.usage"
   ]
  },
  {
   "cell_type": "markdown",
   "id": "75249390-271a-45b9-8e4b-abbfeae9e8e8",
   "metadata": {},
   "source": [
    "## Cached Version"
   ]
  },
  {
   "cell_type": "code",
   "execution_count": null,
   "id": "8319b0d7-e35e-4cc5-9510-cb48d89be8b3",
   "metadata": {},
   "outputs": [],
   "source": [
    "def make_cached_api_call():\n",
    "    messages = [\n",
    "        {\n",
    "            \"role\": \"user\",\n",
    "            \"content\": [\n",
    "                {\n",
    "                    \"type\": \"text\",\n",
    "                    \"text\": \"<book>\" + book_content + \"</book>\",\n",
    "                    \"cache_control\": {\"type\": \"ephemeral\"}\n",
    "                },\n",
    "                {\n",
    "                    \"type\": \"text\",\n",
    "                    \"text\": \"What happens in chapter 5?\"\n",
    "                }\n",
    "            ]\n",
    "        }\n",
    "    ]\n",
    "\n",
    "    start_time = time.time()\n",
    "    response = client.messages.create(\n",
    "        model=MODEL_NAME,\n",
    "        max_tokens=500,\n",
    "        messages=messages,\n",
    "    )\n",
    "    end_time = time.time()\n",
    "\n",
    "    return response, end_time - start_time"
   ]
  },
  {
   "cell_type": "code",
   "execution_count": null,
   "id": "92ce4d45-80a4-4f03-af59-3942b717ea3e",
   "metadata": {},
   "outputs": [],
   "source": [
    "response1, duration1 = make_cached_api_call()"
   ]
  },
  {
   "cell_type": "code",
   "execution_count": null,
   "id": "b5c38a85-1346-42b5-ab28-125ea177ac57",
   "metadata": {},
   "outputs": [],
   "source": [
    "response1"
   ]
  },
  {
   "cell_type": "code",
   "execution_count": null,
   "id": "2755bcfa-fc1b-4b7d-8997-35bd071c721a",
   "metadata": {},
   "outputs": [],
   "source": [
    "response2, duration2 = make_cached_api_call()"
   ]
  },
  {
   "cell_type": "code",
   "execution_count": null,
   "id": "0c085a54-2b4e-4c27-b228-21d6b34abfcf",
   "metadata": {},
   "outputs": [],
   "source": [
    "response2.usage"
   ]
  },
  {
   "cell_type": "code",
   "execution_count": null,
   "id": "39a86322-863f-4c2c-bd55-c88328818895",
   "metadata": {},
   "outputs": [],
   "source": [
    "duration2"
   ]
  },
  {
   "cell_type": "markdown",
   "id": "d12f7791-befc-4e5b-ba5d-dd0fa0d3d657",
   "metadata": {},
   "source": [
    "## Prompt Caching Pricing"
   ]
  },
  {
   "cell_type": "markdown",
   "id": "4bae9d10-addf-4e40-8140-bb4e9aa10358",
   "metadata": {},
   "source": [
    "* Cache write tokens are 25% more expensive than base input tokens\n",
    "* Cache read tokens are 90% cheaper than base input tokens\n",
    "* Regular input and output tokens are priced at standard rates"
   ]
  },
  {
   "cell_type": "markdown",
   "id": "01838c83-b41b-4f8c-b30f-bca5249d319c",
   "metadata": {},
   "source": [
    "## Multi-Turn Caching"
   ]
  },
  {
   "cell_type": "code",
   "execution_count": null,
   "id": "19df6742-2784-41b4-bd82-ed31f52d6cbc",
   "metadata": {},
   "outputs": [],
   "source": [
    "messages=[\n",
    "    # ...long conversation so far\n",
    "    {\n",
    "        \"role\": \"user\",\n",
    "        \"content\": [\n",
    "            {\n",
    "                \"type\": \"text\",\n",
    "                \"text\": \"Hello, can you tell me more about the solar system\",\n",
    "                \"cache_control\": {\"type\": \"ephemeral\"}\n",
    "            }\n",
    "        ]\n",
    "    },\n",
    "    {\n",
    "        \"role\": \"assistant\",\n",
    "        \"content\": \"Certainly! The solar system is the collection of celestial bodies that orbit our Sun. It consists of eight planets, numerous moons, asteroids, comets, and other objects. The planets, in order from closest to farthest from the Sun, are: Mercury, Venus, Earth, Mars, Jupiter, Saturn, Uranus, and Neptune. Each planet has its own unique characteristics and features. Is there a specific aspect of the solar system you'd like to know more about?\"\n",
    "    },\n",
    "    {\n",
    "        \"role\": \"user\",\n",
    "        \"content\": [\n",
    "            {\n",
    "                \"type\": \"text\",\n",
    "                \"text\": \"Tell me more about Mars.\",\n",
    "                \"cache_control\": {\"type\": \"ephemeral\"}\n",
    "            }\n",
    "        ]\n",
    "    }\n",
    "]"
   ]
  },
  {
   "cell_type": "code",
   "execution_count": null,
   "id": "5a19b119-6753-4a91-8ca6-5012993bd426",
   "metadata": {},
   "outputs": [],
   "source": [
    "messages=[\n",
    "    # ...long conversation so far\n",
    "    {\n",
    "        \"role\": \"user\",\n",
    "        \"content\": [\n",
    "            {\n",
    "                \"type\": \"text\",\n",
    "                \"text\": \"Hello, can you tell me more about the solar system\",\n",
    "            }\n",
    "        ]\n",
    "    },\n",
    "    {\n",
    "        \"role\": \"assistant\",\n",
    "        \"content\": \"Certainly! The solar system is the collection of celestial bodies that orbit our Sun. It consists of eight planets, numerous moons, asteroids, comets, and other objects. The planets, in order from closest to farthest from the Sun, are: Mercury, Venus, Earth, Mars, Jupiter, Saturn, Uranus, and Neptune. Each planet has its own unique characteristics and features. Is there a specific aspect of the solar system you'd like to know more about?\"\n",
    "    },\n",
    "    {\n",
    "        \"role\": \"user\",\n",
    "        \"content\": [\n",
    "            {\n",
    "                \"type\": \"text\",\n",
    "                \"text\": \"Tell me more about Mars.\",\n",
    "                \"cache_control\": {\"type\": \"ephemeral\"}\n",
    "            }\n",
    "        ]\n",
    "    },\n",
    "    {\n",
    "        \"role\": \"assistant\",\n",
    "        \"content\": \"I'd love to tell you about Mars.  Mars is....\"\n",
    "    },\n",
    "    {\n",
    "        \"role\": \"user\",\n",
    "        \"content\": [\n",
    "            {\n",
    "                \"type\": \"text\",\n",
    "                \"text\": \"That's really neat.  Tell me about Pluto!\",\n",
    "                \"cache_control\": {\"type\": \"ephemeral\"}\n",
    "            }\n",
    "        ]\n",
    "    },\n",
    "]"
   ]
  }
 ],
 "metadata": {
  "kernelspec": {
   "display_name": "Python 3 (ipykernel)",
   "language": "python",
   "name": "python3"
  },
  "language_info": {
   "codemirror_mode": {
    "name": "ipython",
    "version": 3
   },
   "file_extension": ".py",
   "mimetype": "text/x-python",
   "name": "python",
   "nbconvert_exporter": "python",
   "pygments_lexer": "ipython3",
   "version": "3.12.2"
  }
 },
 "nbformat": 4,
 "nbformat_minor": 5
}
